{
 "cells": [
  {
   "cell_type": "markdown",
   "id": "5a3833fc-f33b-47c3-a12c-b0842921bf44",
   "metadata": {},
   "source": [
    "$\\newcommand{\\ket}[1]{\\left|{#1}\\right\\rangle}$\n",
    "$\\newcommand{\\bra}[1]{\\left\\langle{#1}\\right|}$\n",
    "<h1 align=\"left\" style=\"color: #cd7f32;\"> HHL algorithm implemetation for solving task 1</h1>"
   ]
  },
  {
   "cell_type": "markdown",
   "id": "34732f69-a35f-446a-bd3a-85cd604c8ebb",
   "metadata": {},
   "source": [
    "<h2 align=\"left\" style=\"color: #cd7f32;\"> HHL Algorithm</h2>"
   ]
  },
  {
   "cell_type": "markdown",
   "id": "31eb11d3-cb22-4359-b2a9-d8367b2e5575",
   "metadata": {},
   "source": [
    "The HHL Algorithm uses three registers preset to $\\ket{0}$ and one additional qubit\n",
    "- $n_l$ storing store a binary representation of the eigenvalues of A\n",
    "- $n_b$ storing the vector solution\n",
    "- $n_a$ storing the auxilary qubits\n",
    "- One qubit for the rotation an inversion of the eigenvalues"
   ]
  },
  {
   "cell_type": "markdown",
   "id": "552414ea-5efe-4244-bc89-b683515ddda6",
   "metadata": {},
   "source": [
    " The algorithm finishes when the last qubit for conditionned rotation is meseared and found in state $\\ket{1}$. All the auxillary qubits are set to $\\ket{0}$ at the end of the algorithm."
   ]
  },
  {
   "cell_type": "markdown",
   "id": "3a577039-4a6d-43c9-96e7-d5c77fde5ca0",
   "metadata": {},
   "source": [
    "<figure>\n",
    "    <img src=\"Images/hhlcircuit.png\" style=\"width:50%\" align=\"left\">\n",
    "    </br>\n",
    "    <figcaption align=\"bottom\"></.a></figcaption>\n",
    "</figure>"
   ]
  },
  {
   "cell_type": "markdown",
   "id": "08a1739d-76cb-48f2-afa4-fe4789fac314",
   "metadata": {},
   "source": [
    "HHL Algorithm circuit - source: <a href=\"https://qiskit.org/textbook/ch-applications/hhl_tutorial.html\">qiskit</a>"
   ]
  },
  {
   "cell_type": "markdown",
   "id": "306797c8-9bfc-4623-b06e-57509f0d7f0b",
   "metadata": {},
   "source": [
    "<h2 align=\"left\" style=\"color: #cd7f32;\"> Warmup</h2>"
   ]
  },
  {
   "cell_type": "markdown",
   "id": "f305cb88-8101-47f3-8095-d0025893394c",
   "metadata": {},
   "source": [
    "<h3 align=\"left\" style=\"color: #cd7f32;\"> Step 1</h3>\n",
    "First we try to use the predefined algorithm of HHL on qiskit module"
   ]
  },
  {
   "cell_type": "code",
   "execution_count": 1,
   "id": "4b7bd90f-1233-497d-9871-e7b33f869796",
   "metadata": {},
   "outputs": [],
   "source": [
    "import numpy as np\n",
    "\n",
    "from qiskit.algorithms.linear_solvers.hhl import HHL\n",
    "from qiskit.quantum_info import Statevector\n",
    "\n",
    "\n",
    "T = 6\n",
    "deltaT=1\n",
    "x = 2*np.pi*deltaT/T\n",
    "\n",
    "matrix = np.array([\n",
    "    [0 , 0  , 1  , x],\n",
    "    [0 , 0  , -x , 1],\n",
    "    [1 , -x , 0  , 0],\n",
    "    [x , 1  , 0  , 0]])\n",
    "\n",
    "vector = np.array([1,0,0,0])\n",
    "\n",
    "solution = HHL().solve(matrix, vector)\n"
   ]
  },
  {
   "cell_type": "code",
   "execution_count": 2,
   "id": "40ed3fda-1981-495d-87f5-bf2562030603",
   "metadata": {},
   "outputs": [
    {
     "name": "stdout",
     "output_type": "stream",
     "text": [
      "state:\n",
      "      ┌─────────────┐┌──────┐        ┌─────────┐\n",
      "q4_0: ┤0            ├┤4     ├────────┤4        ├\n",
      "      │  circuit-85 ││      │        │         │\n",
      "q4_1: ┤1            ├┤5     ├────────┤5        ├\n",
      "      └─────────────┘│      │┌──────┐│         │\n",
      "q5_0: ───────────────┤0     ├┤3     ├┤0        ├\n",
      "                     │  QPE ││      ││  QPE_dg │\n",
      "q5_1: ───────────────┤1     ├┤2     ├┤1        ├\n",
      "                     │      ││      ││         │\n",
      "q5_2: ───────────────┤2     ├┤1 1/x ├┤2        ├\n",
      "                     │      ││      ││         │\n",
      "q5_3: ───────────────┤3     ├┤0     ├┤3        ├\n",
      "                     └──────┘│      │└─────────┘\n",
      "  q6: ───────────────────────┤4     ├───────────\n",
      "                             └──────┘           \n",
      "State Euclidean norm: 0.691\n"
     ]
    }
   ],
   "source": [
    "print('state:')\n",
    "print(solution.state)\n",
    "print('State Euclidean norm:', np.round(solution.euclidean_norm,3))"
   ]
  },
  {
   "cell_type": "markdown",
   "id": "2e27abbb-b6fe-4d3c-ad4d-7cc1d4777e23",
   "metadata": {},
   "source": [
    "<h3 align=\"left\" style=\"color: #cd7f32;\"> Step 2</h3>\n",
    "Now we get the raw solution vector\n",
    "</br>\n",
    "For that, we need to extract the right vector components from the state:\n",
    "The drawn circuit shows that we should mesure qubits 4 and 5 (representing the solution register)\n",
    "When the computation ends, all auxilary qubits are reset to $\\ket{0}$, the rotation qubit to $\\ket{1}$\n",
    "</br>\n",
    "The final state has the following form:\n",
    "$\\ket{10000XX}$\n",
    "</br>\n",
    "The possible cases are: $\\ket{64} = \\ket{1000000},\\ket{65} = \\ket{1000001},\\ket{66} = \\ket{1000010},\\ket{67} = \\ket{1000011}$\n"
   ]
  },
  {
   "cell_type": "code",
   "execution_count": 3,
   "id": "d59b1119-0e5d-4408-9a15-5b5d6fadf2be",
   "metadata": {},
   "outputs": [
    {
     "name": "stdout",
     "output_type": "stream",
     "text": [
      "Raw solution vector :\n",
      "[-0.   -0.j -0.   -0.j  0.691+0.j  0.723-0.j]\n",
      "Norm of raw solution: 1.000\n"
     ]
    }
   ],
   "source": [
    "\n",
    "sv = Statevector(solution.state).data\n",
    "\n",
    "# Extract the right vector components. binary(qubit 4) = 1000000 corresponds to the index 8 and binary(qubit 5) = 1001 corresponds to the index 9\n",
    "full_vector = np.array([sv[64], sv[65],sv[66], sv[67]])\n",
    "\n",
    "print('Raw solution vector :')\n",
    "\n",
    "print(np.round(full_vector,3))\n",
    "print('Norm of raw solution: {:.3f}'.format(np.linalg.norm(full_vector)))"
   ]
  },
  {
   "cell_type": "markdown",
   "id": "08a132ec-ef32-4161-9475-f828becbd956",
   "metadata": {},
   "source": [
    "<h3 align=\"left\" style=\"color: #cd7f32;\"> Step 3</h3>\n",
    "\n",
    "The norm dosen't correspond to the norm of the solution calculated above. We should devide this vector by its norm and then multiply it  by the norm of the solution to get the correct result."
   ]
  },
  {
   "cell_type": "code",
   "execution_count": 4,
   "id": "103e25ee-11ba-4364-8bf6-e05713249959",
   "metadata": {},
   "outputs": [
    {
     "name": "stdout",
     "output_type": "stream",
     "text": [
      "[-2.58831132e-15 -5.41032924e-16  6.90621123e-01  7.23216748e-01]\n",
      "Solution vector: [-0.    -0.     0.477  0.499]\n",
      "Norm of the solution: 0.691\n"
     ]
    }
   ],
   "source": [
    "full_vector = np.real(full_vector)\n",
    "print(full_vector)\n",
    "full_vector = solution.euclidean_norm*full_vector/np.linalg.norm(full_vector)\n",
    "print('Solution vector:', np.round(full_vector,3))\n",
    "print('Norm of the solution: {:.3f}'.format(np.linalg.norm(full_vector)))"
   ]
  },
  {
   "cell_type": "markdown",
   "id": "b11b3911-9eba-4b4c-847d-10d6b3ded045",
   "metadata": {},
   "source": [
    "<h2 align=\"left\" style=\"color: #cd7f32;\"> Comparaison with classical algorithms </h2>"
   ]
  },
  {
   "cell_type": "code",
   "execution_count": 5,
   "id": "1580ffa9-8425-4d86-b776-197d27473e6f",
   "metadata": {},
   "outputs": [
    {
     "name": "stdout",
     "output_type": "stream",
     "text": [
      "Norm of the solution : 0.6906211\n",
      "Quantum solution     : [-0.000\t-0.000\t0.4769575\t0.4994688]\n",
      "Classical solution   : [0.000\t0.000\t0.4769575\t0.4994688]\n"
     ]
    }
   ],
   "source": [
    "import numpy as np\n",
    "\n",
    "from qiskit.algorithms.linear_solvers.hhl import HHL\n",
    "from qiskit.quantum_info import Statevector\n",
    "\n",
    "\n",
    "T = 6\n",
    "deltaT=1\n",
    "x = 2*np.pi*deltaT/T\n",
    "\n",
    "matrix = np.array([\n",
    "    [0 , 0  , 1  , x],\n",
    "    [0 , 0  , -x , 1],\n",
    "    [1 , -x , 0  , 0],\n",
    "    [x , 1  , 0  , 0]])\n",
    "\n",
    "vector = np.array([1,0,0,0])\n",
    "\n",
    "solution = HHL().solve(matrix, vector)\n",
    "\n",
    "sv = Statevector(solution.state).data\n",
    "\n",
    "# Extract the right vector components.1000000 -> 64  ;  1000001 -> 65  ;  1000010 -> 66  ;  1000011 -> 67  ;\n",
    "full_vector = np.array([sv[64], sv[65],sv[66], sv[67]])\n",
    "\n",
    "full_vector = np.real(full_vector)\n",
    "quantum = solution.euclidean_norm*full_vector/np.linalg.norm(full_vector)\n",
    "print(\"Norm of the solution : {:.7f}\".format(solution.euclidean_norm))\n",
    "print(\"Quantum solution     : [{:.3f}\\t{:.3f}\\t{:.7f}\\t{:.7f}]\".format(quantum[0],quantum[1],quantum[2],quantum[3]))\n",
    "classical = np.dot(np.linalg.inv(matrix),vector)\n",
    "print(\"Classical solution   : [{:.3f}\\t{:.3f}\\t{:.7f}\\t{:.7f}]\".format(classical[0],classical[1],classical[2],classical[3]))"
   ]
  },
  {
   "cell_type": "markdown",
   "id": "57d0081b-fd49-4a4e-9228-531fe8f6016d",
   "metadata": {},
   "source": [
    "\n",
    "\n",
    "\n"
   ]
  },
  {
   "cell_type": "markdown",
   "id": "7052e81c-4293-4d2b-9b90-91ca962ad220",
   "metadata": {},
   "source": [
    "<div class=\"alert alert-block alert-success\">\n",
    "HHL algorithm offers similar results to the classical algorithms.\n",
    "</div>\n"
   ]
  },
  {
   "cell_type": "markdown",
   "id": "e32c6abd-db91-4cfa-82bd-05019b3f2628",
   "metadata": {},
   "source": [
    "<h2 align=\"left\" style=\"color: #cd7f32;\"> Solution implementation </h2>"
   ]
  },
  {
   "cell_type": "markdown",
   "id": "47e20836-8fc3-4cbd-bc99-ae9a6b336aee",
   "metadata": {},
   "source": [
    "<h3 align=\"left\" style=\"color: #cd7f32;\"> Implementation of the algorithm as python functions</h3>\n"
   ]
  },
  {
   "cell_type": "code",
   "execution_count": 4,
   "id": "cf48c9c6-66ba-4f06-8de3-85c23f4b1da7",
   "metadata": {},
   "outputs": [],
   "source": [
    "import numpy as np\n",
    "\n",
    "from qiskit.algorithms.linear_solvers.hhl import HHL\n",
    "from qiskit.quantum_info import Statevector\n",
    "\n",
    "import matplotlib.pyplot as plt\n",
    "\n",
    "\n",
    "\n",
    "def quantumSolve(matrix, vector):\n",
    "    \"\"\"\n",
    "    This function uses HHL algorothm to compute the solution of the equation Matrix * X = Vector and returns the solution\n",
    "    Parameters\n",
    "    - matrix : The matrix r\"presenting the linear system\n",
    "    - vector : The vector representing the second memebr of the equation\n",
    "    \"\"\"\n",
    "\n",
    "    solution = HHL().solve(matrix, vector)\n",
    "    sv = Statevector(solution.state).data\n",
    "\n",
    "    # Extract the right vector components.\n",
    "    # 1000000 -> 64  ;  1000001 -> 65  ;  1000010 -> 66  ;  1000011 -> 67  ;\n",
    "    full_vector = np.array([sv[64], sv[65],sv[66], sv[67]])\n",
    "    \n",
    "    full_vector = np.real(full_vector)\n",
    "    return solution.euclidean_norm*full_vector/np.linalg.norm(full_vector)\n",
    "\n",
    "def orbite_matrix(T, deltaT,P):\n",
    "    \"\"\"\n",
    "    This function generates the matrix representing the motion of one satellite and its corresponding quantum state vector given the following parameters:\n",
    "    - T      : The period\n",
    "    - deltaT : The time step\n",
    "    - P      : The intial position: (x0,y0)\n",
    "    \"\"\"\n",
    "    \n",
    "    x = 2*np.pi*deltaT/T\n",
    "\n",
    "    matrix = np.array([\n",
    "        [0 , 0  , 1  , x],\n",
    "    [0 , 0  , -x , 1],\n",
    "    [1 , -x , 0  , 0],\n",
    "    [x , 1  , 0  , 0]])\n",
    "    vector = np.array([P[0],P[1],0,0])\n",
    "    vector = vector/np.linalg.norm(vector)\n",
    "    return matrix, vector\n",
    "\n",
    "def compute_orbite(T, deltaT, P, tEnd):\n",
    "    \"\"\"\n",
    "    This function computes the orbit of a stellite given the following parameters:\n",
    "    - T      : The period\n",
    "    - deltaT : The time step\n",
    "    - P      : The intial position: (x0,y0)\n",
    "    - tEnd   : time when simulation ends\n",
    "    \"\"\"\n",
    "    X = [P[0]]\n",
    "    Y = [P[1]]\n",
    "    r = np.sqrt(P[0]**2+P[1]**2)\n",
    "    matrix, vector = orbite_matrix(T, deltaT,P)\n",
    "\n",
    "    \n",
    "    print(\"Step\\tOutput vector\\n\")\n",
    "    print(0, \"\\t[{:.3f}\\t{:.3f}\\t{}\\t{}]\".format(vector[0],vector[1],int(vector[2]),int(vector[3])))\n",
    "    t = 0\n",
    "    while t < tEnd:\n",
    "        t = t + deltaT\n",
    "        vector = quantumSolve(matrix, vector)\n",
    "        # Prepare entery for next iteration\n",
    "        vector = [vector[2],vector[3],0,0]\n",
    "        #adding current solution to solution list\n",
    "        X.append(vector[0]*r)\n",
    "        Y.append(vector[1]*r)\n",
    "        print(len(X)-1, \"\\t[{:.3f}\\t{:.3f}\\t{}\\t{}]\".format(vector[0],vector[1],vector[2],vector[3]))\n",
    "    # Plotting the results\n",
    "    plt.plot(X, Y, 'ro')\n",
    "    plt.xlabel('X (Millon Km)')\n",
    "    plt.ylabel('Y (Millon Km)')\n",
    "    plt.title('James Webb space telescope')\n",
    "    plt.axis('equal')\n",
    "    plt.show()"
   ]
  },
  {
   "cell_type": "markdown",
   "id": "159ba130-ae68-46d9-a2f7-7a173d01af9a",
   "metadata": {},
   "source": [
    "<h3 align=\"left\" style=\"color: #cd7f32;\">Simulation of James Webb's Orbit</h3>"
   ]
  },
  {
   "cell_type": "markdown",
   "id": "dbdf4826-13a8-434a-b7f7-a5fa869255be",
   "metadata": {},
   "source": [
    "According to <a href=\"https://webb.nasa.gov/content/about/orbit.html\">NASA</a>, The James Webb Space Telescope Orbit has a 1.5 Milion Km radius. and a period of about 6 months around Earth.\n",
    "<img src=\"Images/JamesWebb.jpg\" width=\"100%\" align=\"left\">"
   ]
  },
  {
   "cell_type": "code",
   "execution_count": 5,
   "id": "9a0c3164-cd41-4342-bc8e-6a6b0ca7a3cf",
   "metadata": {},
   "outputs": [
    {
     "name": "stdout",
     "output_type": "stream",
     "text": [
      "Step\tOutput vector\n",
      "\n",
      "0 \t[0.000\t1.000\t0\t0]\n",
      "1 \t[-0.104\t0.989\t0\t0]\n",
      "2 \t[-0.206\t0.973\t0\t0]\n",
      "3 \t[-0.306\t0.946\t0\t0]\n",
      "4 \t[-0.403\t0.909\t0\t0]\n",
      "5 \t[-0.496\t0.862\t0\t0]\n",
      "6 \t[-0.583\t0.806\t0\t0]\n",
      "7 \t[-0.664\t0.741\t0\t0]\n",
      "8 \t[-0.737\t0.668\t0\t0]\n",
      "9 \t[-0.803\t0.587\t0\t0]\n",
      "10 \t[-0.859\t0.501\t0\t0]\n",
      "11 \t[-0.907\t0.408\t0\t0]\n",
      "12 \t[-0.944\t0.312\t0\t0]\n",
      "13 \t[-0.972\t0.212\t0\t0]\n",
      "14 \t[-0.989\t0.109\t0\t0]\n",
      "15 \t[-0.995\t0.006\t0\t0]\n",
      "16 \t[-0.990\t-0.098\t0\t0]\n",
      "17 \t[-0.974\t-0.200\t0\t0]\n",
      "18 \t[-0.948\t-0.301\t0\t0]\n",
      "19 \t[-0.911\t-0.398\t0\t0]\n",
      "20 \t[-0.865\t-0.491\t0\t0]\n",
      "21 \t[-0.809\t-0.578\t0\t0]\n",
      "22 \t[-0.745\t-0.659\t0\t0]\n",
      "23 \t[-0.672\t-0.733\t0\t0]\n",
      "24 \t[-0.592\t-0.799\t0\t0]\n",
      "25 \t[-0.505\t-0.857\t0\t0]\n",
      "26 \t[-0.413\t-0.905\t0\t0]\n",
      "27 \t[-0.317\t-0.943\t0\t0]\n",
      "28 \t[-0.217\t-0.971\t0\t0]\n",
      "29 \t[-0.115\t-0.988\t0\t0]\n",
      "30 \t[-0.011\t-0.994\t0\t0]\n",
      "31 \t[0.092\t-0.990\t0\t0]\n",
      "32 \t[0.195\t-0.975\t0\t0]\n",
      "33 \t[0.295\t-0.950\t0\t0]\n",
      "34 \t[0.393\t-0.914\t0\t0]\n",
      "35 \t[0.486\t-0.868\t0\t0]\n",
      "36 \t[0.574\t-0.813\t0\t0]\n",
      "37 \t[0.655\t-0.748\t0\t0]\n",
      "38 \t[0.729\t-0.676\t0\t0]\n",
      "39 \t[0.796\t-0.596\t0\t0]\n",
      "40 \t[0.854\t-0.510\t0\t0]\n",
      "41 \t[0.902\t-0.419\t0\t0]\n",
      "42 \t[0.941\t-0.322\t0\t0]\n",
      "43 \t[0.969\t-0.223\t0\t0]\n",
      "44 \t[0.987\t-0.120\t0\t0]\n",
      "45 \t[0.994\t-0.017\t0\t0]\n",
      "46 \t[0.991\t0.087\t0\t0]\n",
      "47 \t[0.976\t0.189\t0\t0]\n",
      "48 \t[0.951\t0.290\t0\t0]\n",
      "49 \t[0.916\t0.388\t0\t0]\n",
      "50 \t[0.871\t0.481\t0\t0]\n",
      "51 \t[0.816\t0.569\t0\t0]\n",
      "52 \t[0.752\t0.651\t0\t0]\n",
      "53 \t[0.680\t0.726\t0\t0]\n",
      "54 \t[0.601\t0.792\t0\t0]\n",
      "55 \t[0.515\t0.851\t0\t0]\n",
      "56 \t[0.424\t0.900\t0\t0]\n",
      "57 \t[0.328\t0.939\t0\t0]\n",
      "58 \t[0.228\t0.968\t0\t0]\n",
      "59 \t[0.126\t0.987\t0\t0]\n",
      "60 \t[0.023\t0.994\t0\t0]\n",
      "61 \t[-0.081\t0.991\t0\t0]\n"
     ]
    },
    {
     "data": {
      "image/png": "[encoded data removed]",
      "text/plain": [
       "<Figure size 432x288 with 1 Axes>"
      ]
     },
     "metadata": {
      "needs_background": "light"
     },
     "output_type": "display_data"
    }
   ],
   "source": [
    "T = 6\n",
    "deltaT=1E-1\n",
    "P = [0,1.5]\n",
    "compute_orbite(T, deltaT, P,T)"
   ]
  },
  {
   "cell_type": "markdown",
   "id": "d0b84059-26a1-48e4-93e2-8351746e392f",
   "metadata": {},
   "source": [
    "<div class=\"alert alert-block alert-info\">\n",
    "The smaller the time step, the best accurate are the resuts obtained by the algorithm\n",
    "</div>\n"
   ]
  }
 ],
 "metadata": {
  "kernelspec": {
   "display_name": "Python 3 [Womanium]",
   "language": "python",
   "name": "python3_womanium_go14xk"
  },
  "language_info": {
   "codemirror_mode": {
    "name": "ipython",
    "version": 3
   },
   "file_extension": ".py",
   "mimetype": "text/x-python",
   "name": "python",
   "nbconvert_exporter": "python",
   "pygments_lexer": "ipython3",
   "version": "3.9.10"
  }
 },
 "nbformat": 4,
 "nbformat_minor": 5
}
